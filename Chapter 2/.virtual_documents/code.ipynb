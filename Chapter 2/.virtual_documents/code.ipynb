import numpy as np
import pandas as pd
import matplotlib.pyplot as plt
%matplotlib inline


df = pd.read_csv("housing.csv")
df.head()


df.info()


df.describe()


print("Number of Nulls: ",df.isna().sum().sum())


df["total_bedrooms"]=df["total_bedrooms"].interpolate()


print("Number of Nulls: ",df.isna().sum().sum())
print("Number of duplicates: ",df.duplicated().sum())


df.hist(bins=20,figsize=(20,10))
plt.show()



