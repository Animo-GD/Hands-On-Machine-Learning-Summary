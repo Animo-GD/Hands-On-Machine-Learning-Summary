import numpy as np
import pandas as pd
import matplotlib.pyplot as plt
from sklearn.impute import SimpleImputer
from sklearn.model_selection import train_test_split
%matplotlib inline
np.random.seed(7)





df = pd.read_csv("housing.csv")
df.head()


df.info()


df.describe()


df.hist(bins=20,figsize=(20,10))
plt.show()


df.plot(kind="scatter",x="longitude",y="latitude",grid=True,
        s=df["population"]/100,label="population",
        c="median_house_value",cmap="jet",
        figsize=(15,7),legend=True)
plt.show()








num_cols = df.select_dtypes(exclude="O").columns
cat_cols = df.select_dtypes(include="O").columns


corr_matrix = df[num_cols].corr()





corr_matrix["median_house_value"].sort_values(ascending=False)


features = ["median_income","total_rooms","housing_median_age","latitude"]
plt.figure(figsize=(16,9))
for i,feature in enumerate(features):
    plt.subplot(2,2,i+1)
    plt.scatter(data=df[num_cols],x=feature,y="median_house_value",alpha=.2)
    plt.xlabel(feature)
    plt.ylabel("median_house_value")
plt.tight_layout()
plt.show()





df["rooms_per_house"] = df["total_rooms"] / df["households"]
df["bedrooms_ratio"] = df["total_bedrooms"] / df["total_rooms"]
df["people_per_house"] = df["population"] / df["households"]


num_cols = df.select_dtypes(exclude="O").columns


corr_matrix = df[num_cols].corr()
corr_matrix["median_house_value"].sort_values(ascending=False)





temp_df = df.copy()


imputer = SimpleImputer(strategy="median")
temp_df[num_cols] = imputer.fit_transform(temp_df[num_cols])





from sklearn.preprocessing import OneHotEncoder
encoder = OneHotEncoder(sparse_output=False,drop='first')
encoded_cat = encoder.fit_transform(temp_df[cat_cols])
encoded_cat_df = pd.DataFrame(encoded_cat,columns=encoder.get_feature_names_out(cat_cols))
temp_df.drop(columns=cat_cols,inplace=True)
temp_df = pd.concat([temp_df, encoded_cat_df], axis=1)


temp_df.head()


print("Number of nulls: ",sum(temp_df.isna().sum()))





data = temp_df.copy()


from sklearn.preprocessing import MinMaxScaler
scaler = MinMaxScaler()
data[num_cols] =scaler.fit_transform(data[num_cols])


data[num_cols].head()


X = data.drop(columns="median_house_value")
y = data["median_house_value"]


X.shape,y.shape


x_train,x_test,y_train,y_test = train_test_split(X,y,test_size=.3,random_state=7)


x_train.shape,x_test.shape


from sklearn.linear_model import LinearRegression
from sklearn.metrics import r2_score,mean_squared_error
model = LinearRegression()
model.fit(x_train,y_train)
train_pred = model.predict(x_train)
test_pred = model.predict(x_test)
print("------------> Train Result <-------------")
print("Mean Squared Error = ", mean_squared_error(train_pred,y_train))
print("R Squared Score = ",r2_score(train_pred,y_train))
print("------------> Test Result <---------------")
print("Mean Squared Error = ", mean_squared_error(test_pred,y_test))
print("R Squared Score = ",r2_score(test_pred,y_test))



