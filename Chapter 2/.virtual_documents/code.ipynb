import numpy as np
import pandas as pd
import matplotlib.pyplot as plt
import seaborn as sns
from sklearn.impute import SimpleImputer
%matplotlib inline


df = pd.read_csv("housing.csv")
df.head()


df.info()


df.describe()


df.hist(bins=20,figsize=(20,10))
plt.show()


df.plot(kind="scatter",x="longitude",y="latitude",grid=True,
        s=df["population"]/100,label="population",
        c="median_house_value",cmap="jet",
        figsize=(15,7),legend=True)
plt.show()


housing = df.select_dtypes(exclude="O")
housing.columns


corr_matrix = housing.corr()





corr_matrix["median_house_value"].sort_values(ascending=False)


features = ["median_income","total_rooms","housing_median_age","latitude"]
plt.figure(figsize=(16,9))
for i,feature in enumerate(features):
    plt.subplot(2,2,i+1)
    plt.scatter(data=housing,x=feature,y="median_house_value",alpha=.2)
    plt.xlabel(feature)
    plt.ylabel("median_house_value")
plt.tight_layout()
plt.show()





housing["rooms_per_house"] = housing["total_rooms"] / housing["households"]
housing["bedrooms_ratio"] = housing["total_bedrooms"] / housing["total_rooms"]
housing["people_per_house"] = housing["population"] / housing["households"]


corr_matrix = housing.corr()
corr_matrix["median_house_value"].sort_values(ascending=False)


df[housing.columns]=housing
df.head()


X = df.iloc[:,:-1].values
y = df.iloc[:,-1].values


X


y


X.shape,y.shape


imputer = SimpleImputer(strategy="median")
imputer.fit(housing)
imputer.statistics_


X = imputer.transform(housing)



